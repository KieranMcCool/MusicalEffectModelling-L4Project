{
 "cells": [
  {
   "cell_type": "code",
   "execution_count": 3,
   "metadata": {
    "collapsed": true,
    "scrolled": true
   },
   "outputs": [],
   "source": [
    "import numpy as np\n",
    "from IPython.display import Audio\n",
    "from scipy.io import wavfile as wf\n",
    "from scipy.signal import chirp\n",
    "from subprocess import Popen\n",
    "\n",
    "\n",
    "def createWav():\n",
    "    rate = 4400\n",
    "    signal = chirp(np.linspace(0, rate, rate), 0, 1, 1)\n",
    "    wf.write(\"out.wav\", rate, signal)\n",
    "\n",
    "def processFile(inputFile, pluginFile, outputFile):\n",
    "    Popen(['./mrswatson64', '--plugin', pluginFile, '--input', inputFile, '--output', outputFile ])\n",
    "\n",
    "createWav()\n",
    "processFile(\"out.wav\", \"TSC 1.1.dll\", \"test.wav\")"
   ]
  },
  {
   "cell_type": "code",
   "execution_count": null,
   "metadata": {
    "collapsed": true
   },
   "outputs": [],
   "source": []
  }
 ],
 "metadata": {
  "kernelspec": {
   "display_name": "Python 3",
   "language": "python",
   "name": "python3"
  },
  "language_info": {
   "codemirror_mode": {
    "name": "ipython",
    "version": 3
   },
   "file_extension": ".py",
   "mimetype": "text/x-python",
   "name": "python",
   "nbconvert_exporter": "python",
   "pygments_lexer": "ipython3",
   "version": "3.6.2"
  }
 },
 "nbformat": 4,
 "nbformat_minor": 2
}
