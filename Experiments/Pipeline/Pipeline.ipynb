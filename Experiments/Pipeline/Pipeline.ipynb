{
 "cells": [
  {
   "cell_type": "code",
   "execution_count": 19,
   "metadata": {
    "scrolled": true
   },
   "outputs": [],
   "source": [
    "import numpy as np\n",
    "from scipy.io import wavfile as wf\n",
    "from scipy.signal import chirp\n",
    "from subprocess import call\n",
    "from os import remove\n",
    "from random import randrange\n",
    "\n",
    "def createWav(outputFile, rate=4400):\n",
    "    signal = chirp(np.linspace(0, rate, rate), 0, 1, 1)\n",
    "    wf.write(outputFile, rate, signal)\n",
    "\n",
    "def processFile(inputFile, plugin, outputFile):\n",
    "    call(['./mrswatson64', '--plugin', plugin, '--input', \n",
    "          inputFile, '--output', outputFile ])\n",
    "    \n",
    "def convertFile(inputFile, outputFile, rm=False):\n",
    "    call([\"ffmpeg\", \"-i\", inputFile, \"-f\", \"wav\", \n",
    "           \"-flags\", \"bitexact\", \"-acodec\", \"pcm_s16le\", \n",
    "           \"-ar\", \"44000\", \"-ac\", \"1\", outputFile])\n",
    "    if rm:\n",
    "        remove(inputFile)\n",
    "    \n",
    "def randomOutput():\n",
    "    rate = randrange(4400, 192000)\n",
    "    name = \"data %s\" % rate\n",
    "    createWav(name + \"temp\" , rate=rate)\n",
    "    convertFile(name + \"temp\", name + \".wav\", rm=True)\n",
    "    processFile(name + \".wav\", \"Carve\", name + \" processed.pcm\")\n",
    "    \n",
    "    \n",
    "for i in range(100):\n",
    "    randomOutput() "
   ]
  },
  {
   "cell_type": "code",
   "execution_count": null,
   "metadata": {
    "collapsed": true
   },
   "outputs": [],
   "source": []
  }
 ],
 "metadata": {
  "kernelspec": {
   "display_name": "Python 3",
   "language": "python",
   "name": "python3"
  },
  "language_info": {
   "codemirror_mode": {
    "name": "ipython",
    "version": 3
   },
   "file_extension": ".py",
   "mimetype": "text/x-python",
   "name": "python",
   "nbconvert_exporter": "python",
   "pygments_lexer": "ipython3",
   "version": "3.6.2"
  }
 },
 "nbformat": 4,
 "nbformat_minor": 2
}
